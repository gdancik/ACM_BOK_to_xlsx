{
 "cells": [
  {
   "cell_type": "markdown",
   "metadata": {},
   "source": [
    "### Extract Knowlede Units and Learning Outcomes from ACM 2023 Body of Knowledge\n",
    "\n",
    "https://csed.acm.org/wp-content/uploads/2024/04/3.1-Body-of-Knowledge-1.pdf\n",
    "\n"
   ]
  },
  {
   "cell_type": "code",
   "execution_count": 17,
   "metadata": {},
   "outputs": [],
   "source": [
    "import fitz  # PyMuPDF\n",
    "import re\n",
    "import pandas as pd"
   ]
  },
  {
   "cell_type": "code",
   "execution_count": 2,
   "metadata": {},
   "outputs": [],
   "source": [
    "def get_doc(pdf_path):\n",
    "    '''return pdf doc at given path'''\n",
    "    doc = fitz.open(pdf_path)\n",
    "    return doc"
   ]
  },
  {
   "cell_type": "code",
   "execution_count": 3,
   "metadata": {},
   "outputs": [],
   "source": [
    "def get_next_line(doc) :\n",
    "    '''generator to get next line from pdf doc'''\n",
    "    for page in doc :\n",
    "        text = page.get_text(\"text\")  # Extract text as plain text        \n",
    "        lines = text.split('\\n')\n",
    "        for line in lines :\n",
    "            yield line\n"
   ]
  },
  {
   "cell_type": "code",
   "execution_count": 4,
   "metadata": {},
   "outputs": [],
   "source": [
    "def getKAs(doc):\n",
    "    ''' get KAs based on line prior to each Preamble'''\n",
    "    back1 = None\n",
    "    back2 = None\n",
    "    ka = []\n",
    "    for i, line in enumerate(get_next_line(doc)) :\n",
    "            if line.strip() == 'Preamble' :           \n",
    "                if back1.strip() == '' :\n",
    "                    ka.append(back2.strip())\n",
    "                else :\n",
    "                    ka.append(back1.strip())\n",
    "            back2 = back1\n",
    "            back1 = line\n",
    "    return ka "
   ]
  },
  {
   "cell_type": "code",
   "execution_count": 5,
   "metadata": {},
   "outputs": [],
   "source": [
    "def print_ku(doc, qry):    \n",
    "     '''prints knowledge units for qry, e.g., \n",
    "        Software Development Fundamentals (SDF),\n",
    "        returns text between query and Professional Dispositions\n",
    "     '''\n",
    "     printing = 0\n",
    "     for line in get_next_line(doc) :\n",
    "          if line.strip() == qry :                    \n",
    "               printing = 1\n",
    "          elif printing == 1 and line.strip() == 'Knowledge Units' :\n",
    "               printing = 2                      \n",
    "          elif printing == 2 and line.strip() == 'Professional Dispositions' :\n",
    "               return\n",
    "          elif printing == 2 :\n",
    "               if (line.strip() != '' and not line.strip().isdigit()) :\n",
    "                    if re.match('[ivx]+\\.', line.strip()) :  \n",
    "                         print(line, end = '')\n",
    "                    else :\n",
    "                         print(line)\n",
    "                "
   ]
  },
  {
   "cell_type": "code",
   "execution_count": null,
   "metadata": {},
   "outputs": [],
   "source": [
    "pdf_file = \"/Users/dancikg/Downloads/bok.pdf\"  # Replace with your PDF file path\n",
    "doc = get_doc(pdf_file)\n",
    "doc"
   ]
  },
  {
   "cell_type": "code",
   "execution_count": null,
   "metadata": {},
   "outputs": [],
   "source": [
    "kaList = getKAs(doc)\n",
    "kaList"
   ]
  },
  {
   "cell_type": "markdown",
   "metadata": {},
   "source": [
    "### Save the output below to a file, e.g., test.csv"
   ]
  },
  {
   "cell_type": "code",
   "execution_count": null,
   "metadata": {},
   "outputs": [],
   "source": [
    "for k in kaList :\n",
    "    print_ku(doc, k)"
   ]
  },
  {
   "cell_type": "markdown",
   "metadata": {},
   "source": [
    "### Now process and format the file"
   ]
  },
  {
   "cell_type": "code",
   "execution_count": 9,
   "metadata": {},
   "outputs": [],
   "source": [
    "def remove_blanks(lines) :\n",
    "     return [line for line in lines if line != '']\n",
    "\n",
    "def process_lines(lines):    \n",
    "    lines = [line.strip() for line in lines]\n",
    "    n = len(lines)\n",
    "    for i in range(n) :\n",
    "        # f. items are on multiple lines; fix this\n",
    "        if re.match('^[a-h]\\.$', lines[i]) :\n",
    "                lines[i] = lines[i] + ' ' +  lines[i+1]\n",
    "                lines[i+1] = ''\n",
    "        # inconsistent KA Core notation  \n",
    "        if lines[i] == 'KA-Core:' or lines[i] == 'KA core:' or lines[i] == 'KA Core':\n",
    "             lines[i] = 'KA Core:'\n",
    "    return remove_blanks(lines)\n"
   ]
  },
  {
   "cell_type": "code",
   "execution_count": 10,
   "metadata": {},
   "outputs": [],
   "source": [
    "def is_heading(x) :\n",
    "    ''' returns (type, x) for heading, or None'''\n",
    "    if re.match('^(CS Core\\:|KA Core\\:|Non\\-core\\:)', x) :\n",
    "        return 'core', x\n",
    "    elif re.match('^Illustrative Learning Outcomes:', x) :\n",
    "        return 'lo', x\n",
    "    elif re.match('^[A-Z]{2,3}-[A-z]+: ', x) :        \n",
    "        return 'ka', x\n",
    "    elif re.match('^[A-Z]{2,3}-[A-z]+-[A-z]+: ', x) :        \n",
    "        return 'ka', x\n",
    "    return None"
   ]
  },
  {
   "cell_type": "code",
   "execution_count": 11,
   "metadata": {},
   "outputs": [],
   "source": [
    "def extractItemNumber(s) : \n",
    "    ''' gets item in format x. '''\n",
    "    r = re.match('^[0-9a-z]{1,4}\\. ', s)\n",
    "    if r :\n",
    "        return r.group().strip(' .')\n",
    "    return None\n",
    "\n",
    "def getNextItemNumber(lines, i) :\n",
    "    '''Returns index of next item number'''\n",
    "    while i > 1 and i + 1 < len(lines) :   \n",
    "        i = i + 1                    \n",
    "        if is_heading(lines[i]) or extractItemNumber(lines[i]) :\n",
    "            return i\n",
    "    return i"
   ]
  },
  {
   "cell_type": "code",
   "execution_count": 12,
   "metadata": {},
   "outputs": [],
   "source": [
    "# for debugging purposes\n",
    "def getLineNumbers(lines, qry) :\n",
    "    '''Gets line numbers where qry is found'''\n",
    "    return [i for i,l in enumerate(lines) if qry in l]"
   ]
  },
  {
   "cell_type": "code",
   "execution_count": 13,
   "metadata": {},
   "outputs": [],
   "source": [
    "## read in from file\n",
    "with open('test.csv') as f :\n",
    "    lines = f.readlines()\n",
    "\n",
    "lines = process_lines(lines)"
   ]
  },
  {
   "cell_type": "code",
   "execution_count": 14,
   "metadata": {},
   "outputs": [],
   "source": [
    "# Combine items that span multiple lines\n",
    "i = 0\n",
    "while i < len(lines) :\n",
    "    next_i = getNextItemNumber(lines,i)\n",
    "    if next_i > i + 1 :               \n",
    "        lines[i] = ' '.join(lines[i:next_i])        \n",
    "        for ii in range(i+1,next_i) :\n",
    "            lines[ii] = ''        \n",
    "        i = next_i - 1\n",
    "    i = i + 1       \n",
    "\n",
    "lines = remove_blanks(lines) "
   ]
  },
  {
   "cell_type": "code",
   "execution_count": 15,
   "metadata": {},
   "outputs": [],
   "source": [
    "# create heading lists\n",
    "def assignHeading(i, h, h_col, h_type, line) :\n",
    "    if h and h[0] == h_type :\n",
    "        h_col[i] = line\n",
    "    else :\n",
    "        h_col[i] = h_col[i-1]\n",
    "\n",
    "n = len(lines)\n",
    "ka_col = ['']*n\n",
    "core_col = ['']*n\n",
    "lo_col = ['']*n\n",
    "\n",
    "for i,l in enumerate(lines) :\n",
    "\n",
    "    h = is_heading(l) \n",
    "    assignHeading(i, h, ka_col, 'ka', l)   \n",
    "    assignHeading(i, h, core_col, 'core', l)\n",
    "    assignHeading(i, h, lo_col, 'lo', l)\n",
    "    if h and h[0] == 'lo' :\n",
    "        core_col[i] = ''\n",
    "    elif h and h[0] == 'ka' :\n",
    "        lo_col[i] = ''\n",
    "    \n"
   ]
  },
  {
   "cell_type": "code",
   "execution_count": null,
   "metadata": {},
   "outputs": [],
   "source": [
    "# create data frame\n",
    "df = [(k,l,h,li) for k,l,h, li in zip(ka_col,lo_col,core_col,lines)]\n",
    "df = pd.DataFrame(df)\n",
    "\n",
    "# main heading list takes prefix, e.g., AL from AL-Foundational\n",
    "main_ka = [x.split('-')[0] for x in df[0]]\n"
   ]
  },
  {
   "cell_type": "code",
   "execution_count": null,
   "metadata": {},
   "outputs": [],
   "source": [
    "# create dictionary to lookup KA description\n",
    "ka_lookup = {k.split(' (')[1].strip(')'): k for k in kaList}\n",
    "ka_lookup"
   ]
  },
  {
   "cell_type": "code",
   "execution_count": 20,
   "metadata": {},
   "outputs": [],
   "source": [
    "# create tuple in form AL, Algorithmic Foundations to add to data frame\n",
    "ka_labels = [(k, ka_lookup[k].split('(')[0].strip()) for k in main_ka]\n"
   ]
  },
  {
   "cell_type": "code",
   "execution_count": 21,
   "metadata": {},
   "outputs": [],
   "source": [
    "# add ka_labels to data frame\n",
    "ka_labels_df = pd.DataFrame(ka_labels)\n",
    "final_df = pd.concat([ka_labels_df, df], axis = 1)\n",
    "final_df.columns = ['KA', 'KA_DESC', 'KA_SUB', 'LO', 'CORE', 'TOPIC' ]\n",
    "#final_df.to_csv('ACM_processed2.csv', sep = '\\t')"
   ]
  },
  {
   "cell_type": "code",
   "execution_count": 22,
   "metadata": {},
   "outputs": [],
   "source": [
    "# some topics contain headings, remove these\n",
    "keep = [x == None for x in final_df['TOPIC'].apply(is_heading)]\n",
    "final_df = final_df[keep]\n",
    "\n",
    "# save file\n",
    "final_df.to_csv('ACM_processed.csv', sep = '\\t')\n",
    "        "
   ]
  },
  {
   "cell_type": "code",
   "execution_count": null,
   "metadata": {},
   "outputs": [],
   "source": [
    "# Erorr checking -- are there any lines left that are not list items?\n",
    "\n",
    "x = final_df['TOPIC']\n",
    "x = list(x)[0]\n",
    "\n",
    "def not_li(x) :\n",
    "    m1 = re.match('^[0-9]+. ',x)\n",
    "    m2 = re.match('^[a-z]{1,4}. ', x)\n",
    "    return m1 == None and m2 == None\n",
    "\n",
    "index = final_df['TOPIC'].apply(not_li)\n",
    "final_df[index]\n"
   ]
  },
  {
   "cell_type": "code",
   "execution_count": null,
   "metadata": {},
   "outputs": [],
   "source": []
  }
 ],
 "metadata": {
  "kernelspec": {
   "display_name": "Python 3",
   "language": "python",
   "name": "python3"
  },
  "language_info": {
   "codemirror_mode": {
    "name": "ipython",
    "version": 3
   },
   "file_extension": ".py",
   "mimetype": "text/x-python",
   "name": "python",
   "nbconvert_exporter": "python",
   "pygments_lexer": "ipython3",
   "version": "3.9.6"
  }
 },
 "nbformat": 4,
 "nbformat_minor": 2
}
